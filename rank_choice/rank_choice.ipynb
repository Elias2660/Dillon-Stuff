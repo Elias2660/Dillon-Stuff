{
 "cells": [
  {
   "attachments": {},
   "cell_type": "markdown",
   "metadata": {},
   "source": [
    "#  Welcome to the Rank Choice Lab"
   ]
  },
  {
   "attachments": {},
   "cell_type": "markdown",
   "metadata": {},
   "source": [
    "**Necessary Imports and Work**"
   ]
  },
  {
   "attachments": {},
   "cell_type": "markdown",
   "metadata": {},
   "source": [
    "This will read in the necessary data\n",
    "make sure avengers.csv is in the same directory\n",
    "as this python file.\n",
    "You can get the file here: https://raw.githubusercontent.com/mks22-dw/python/main/avengers.csv\n",
    "\n",
    "\n",
    "avengers.csv represents the results of ranked choice voting\n",
    "on who should be the leader of the Avengers.\n",
    "\n",
    "Each line in the file represents a single ballot.\n",
    "The names in each line represent the ranked choices\n",
    "separated by commas.\n",
    "The first name listed is the top choice, second name, second\n",
    "choice, etc."
   ]
  },
  {
   "cell_type": "code",
   "execution_count": 1,
   "metadata": {
    "vscode": {
     "languageId": "powershell"
    }
   },
   "outputs": [],
   "source": [
    "# !pip install pprint"
   ]
  },
  {
   "cell_type": "code",
   "execution_count": 2,
   "metadata": {},
   "outputs": [],
   "source": [
    "from pprint import pprint"
   ]
  },
  {
   "cell_type": "code",
   "execution_count": 3,
   "metadata": {},
   "outputs": [],
   "source": [
    "text = open('avengers.csv').read().strip()"
   ]
  },
  {
   "attachments": {},
   "cell_type": "markdown",
   "metadata": {},
   "source": [
    "**Question 0**\n",
    "\n",
    "See above for a description of that data that should be\n",
    "in text.\n",
    "Write a function that will take a string of csv data and\n",
    "return a list of lists.\n",
    "Each sublist should represent a single line, with the\n",
    "values separated by commas.\n",
    "\n",
    "For example, the first two elements in this list given\n",
    "the avengers data should be:\n",
    "   [['Captain America', 'Falcon', 'Black Widow', 'Iron Man', 'Thor'],\n",
    "    ['Black Widow', 'Thor', 'Falcon', 'Captain America', 'Iron Man'],"
   ]
  },
  {
   "cell_type": "code",
   "execution_count": 4,
   "metadata": {},
   "outputs": [],
   "source": [
    "def make_lists(s):\n",
    "    return [[word for word in data_item.split(\",\")] for data_item in s.split(\"\\n\")]\n"
   ]
  },
  {
   "cell_type": "code",
   "execution_count": 5,
   "metadata": {},
   "outputs": [
    {
     "name": "stdout",
     "output_type": "stream",
     "text": [
      "[['1st Choice', '2nd Choice', '3rd Choice', '4th Choice', '5th Choice'],\n",
      " ['Captain America', 'Falcon', 'Black Widow', 'Iron Man', 'Thor'],\n",
      " ['Black Widow', 'Thor', 'Falcon', 'Captain America', 'Iron Man'],\n",
      " ['Black Widow', 'Falcon', 'Iron Man', 'Captain America', 'Thor'],\n",
      " ['Iron Man', 'Black Widow', 'Captain America', 'Falcon', 'Thor']]\n"
     ]
    }
   ],
   "source": [
    "choices = make_lists(text)\n",
    "\n",
    "# only printing out the first 5 to keep from overloading\n",
    "# the Thonny shell with data.\n",
    "pprint(choices[:5])"
   ]
  },
  {
   "cell_type": "code",
   "execution_count": 6,
   "metadata": {},
   "outputs": [
    {
     "data": {
      "text/html": [
       "<div>\n",
       "<style scoped>\n",
       "    .dataframe tbody tr th:only-of-type {\n",
       "        vertical-align: middle;\n",
       "    }\n",
       "\n",
       "    .dataframe tbody tr th {\n",
       "        vertical-align: top;\n",
       "    }\n",
       "\n",
       "    .dataframe thead th {\n",
       "        text-align: right;\n",
       "    }\n",
       "</style>\n",
       "<table border=\"1\" class=\"dataframe\">\n",
       "  <thead>\n",
       "    <tr style=\"text-align: right;\">\n",
       "      <th></th>\n",
       "      <th>1st Choice</th>\n",
       "      <th>2nd Choice</th>\n",
       "      <th>3rd Choice</th>\n",
       "      <th>4th Choice</th>\n",
       "      <th>5th Choice</th>\n",
       "    </tr>\n",
       "  </thead>\n",
       "  <tbody>\n",
       "    <tr>\n",
       "      <th>0</th>\n",
       "      <td>Captain America</td>\n",
       "      <td>Falcon</td>\n",
       "      <td>Black Widow</td>\n",
       "      <td>Iron Man</td>\n",
       "      <td>Thor</td>\n",
       "    </tr>\n",
       "    <tr>\n",
       "      <th>1</th>\n",
       "      <td>Black Widow</td>\n",
       "      <td>Thor</td>\n",
       "      <td>Falcon</td>\n",
       "      <td>Captain America</td>\n",
       "      <td>Iron Man</td>\n",
       "    </tr>\n",
       "    <tr>\n",
       "      <th>2</th>\n",
       "      <td>Black Widow</td>\n",
       "      <td>Falcon</td>\n",
       "      <td>Iron Man</td>\n",
       "      <td>Captain America</td>\n",
       "      <td>Thor</td>\n",
       "    </tr>\n",
       "    <tr>\n",
       "      <th>3</th>\n",
       "      <td>Iron Man</td>\n",
       "      <td>Black Widow</td>\n",
       "      <td>Captain America</td>\n",
       "      <td>Falcon</td>\n",
       "      <td>Thor</td>\n",
       "    </tr>\n",
       "    <tr>\n",
       "      <th>4</th>\n",
       "      <td>Falcon</td>\n",
       "      <td>Thor</td>\n",
       "      <td>Captain America</td>\n",
       "      <td>Iron Man</td>\n",
       "      <td>Black Widow</td>\n",
       "    </tr>\n",
       "  </tbody>\n",
       "</table>\n",
       "</div>"
      ],
      "text/plain": [
       "        1st Choice   2nd Choice       3rd Choice       4th Choice   5th Choice\n",
       "0  Captain America       Falcon      Black Widow         Iron Man         Thor\n",
       "1      Black Widow         Thor           Falcon  Captain America     Iron Man\n",
       "2      Black Widow       Falcon         Iron Man  Captain America         Thor\n",
       "3         Iron Man  Black Widow  Captain America           Falcon         Thor\n",
       "4           Falcon         Thor  Captain America         Iron Man  Black Widow"
      ]
     },
     "metadata": {},
     "output_type": "display_data"
    }
   ],
   "source": [
    "#another way to use: pandas\n",
    "import pandas as pd\n",
    "\n",
    "pandas_data = pd.read_csv(\"avengers.csv\")\n",
    "display(pandas_data.head())"
   ]
  },
  {
   "attachments": {},
   "cell_type": "markdown",
   "metadata": {},
   "source": [
    "**Question 1**\n",
    "\n",
    "In order to do ranked choice voting, we\n",
    "need to count votes for candidates, focusing on\n",
    "the specific rank in a given ballot.\n",
    "\n",
    "This function should take a list of lists, like\n",
    "what make_lists returns as input.\n",
    "\n",
    "It should create and return a dictionary where the\n",
    "keys are the names on the ballots, and the values\n",
    "are the number of people that voted for that name\n",
    "in the given rank.\n",
    "\n",
    "Assume that rank 0 means top choice, rank 1 means second, etc"
   ]
  },
  {
   "cell_type": "code",
   "execution_count": 7,
   "metadata": {},
   "outputs": [
    {
     "name": "stdout",
     "output_type": "stream",
     "text": [
      "Captain America\n",
      "100\n"
     ]
    }
   ],
   "source": [
    "print(pandas_data.loc[0].iloc[0])\n",
    "print(pandas_data.shape[0])"
   ]
  },
  {
   "cell_type": "code",
   "execution_count": 8,
   "metadata": {},
   "outputs": [],
   "source": [
    "#works with pandas data\n",
    "\n",
    "def isolate_choice(pandas_data, rank):\n",
    "    single_choice = {}\n",
    "    for index in range(pandas_data.shape[0]):\n",
    "        choice = pandas_data.loc[index].iloc[rank] \n",
    "        if choice not in single_choice:\n",
    "            single_choice[choice] = 1\n",
    "        else:\n",
    "            single_choice[choice] += 1\n",
    "    return single_choice"
   ]
  },
  {
   "cell_type": "code",
   "execution_count": 9,
   "metadata": {},
   "outputs": [
    {
     "name": "stdout",
     "output_type": "stream",
     "text": [
      "{'Black Widow': 35,\n",
      " 'Captain America': 14,\n",
      " 'Falcon': 25,\n",
      " 'Iron Man': 9,\n",
      " 'Thor': 17}\n",
      "{'Black Widow': 8,\n",
      " 'Captain America': 8,\n",
      " 'Falcon': 5,\n",
      " 'Iron Man': 29,\n",
      " 'Thor': 50}\n"
     ]
    }
   ],
   "source": [
    "\n",
    "choice0 = isolate_choice(pandas_data, 0)\n",
    "pprint(choice0)\n",
    "\n",
    "\n",
    "# find and print the choices for the last rank\n",
    "choice4 = isolate_choice(pandas_data, -1)\n",
    "pprint(choice4)"
   ]
  },
  {
   "attachments": {},
   "cell_type": "markdown",
   "metadata": {},
   "source": [
    "**Question 2**\n",
    "\n",
    "We can create bar graphs to look at the voting data.\n",
    "\n",
    "This function should take a dictionary like the one returned\n",
    "in problem 1, and generate a bar graph where the x axis constains\n",
    "the names of the candidates, and the y axis is their vote count."
   ]
  },
  {
   "cell_type": "code",
   "execution_count": 10,
   "metadata": {
    "vscode": {
     "languageId": "powershell"
    }
   },
   "outputs": [],
   "source": [
    "# !pip install numpy\n",
    "# !pip install matplotlib"
   ]
  },
  {
   "cell_type": "code",
   "execution_count": 11,
   "metadata": {},
   "outputs": [],
   "source": [
    "##imports for matplotlib\n",
    "import matplotlib.pyplot as plt\n",
    "import numpy as np\n",
    "import seaborn as sns"
   ]
  },
  {
   "cell_type": "code",
   "execution_count": 12,
   "metadata": {},
   "outputs": [],
   "source": [
    "# Use the second parameter as the title for the graph\n",
    "def choice_bar(choice_data, title):\n",
    "    l_list, f_list = [],[]\n",
    "    for label, freq in choice_data.items():\n",
    "        l_list.append(label)\n",
    "        f_list.append(freq)\n",
    "    \n",
    "    plt.title(title)\n",
    "    sns.barplot(l_list, f_list) #\n",
    "    plt.show()"
   ]
  },
  {
   "cell_type": "code",
   "execution_count": 13,
   "metadata": {},
   "outputs": [
    {
     "name": "stderr",
     "output_type": "stream",
     "text": [
      "/opt/anaconda3/lib/python3.9/site-packages/seaborn/_decorators.py:36: FutureWarning: Pass the following variables as keyword args: x, y. From version 0.12, the only valid positional argument will be `data`, and passing other arguments without an explicit keyword will result in an error or misinterpretation.\n",
      "  warnings.warn(\n"
     ]
    },
    {
     "data": {
      "image/png": "[encoded data removed]",
      "text/plain": [
       "<Figure size 640x480 with 1 Axes>"
      ]
     },
     "metadata": {},
     "output_type": "display_data"
    },
    {
     "name": "stderr",
     "output_type": "stream",
     "text": [
      "/opt/anaconda3/lib/python3.9/site-packages/seaborn/_decorators.py:36: FutureWarning: Pass the following variables as keyword args: x, y. From version 0.12, the only valid positional argument will be `data`, and passing other arguments without an explicit keyword will result in an error or misinterpretation.\n",
      "  warnings.warn(\n"
     ]
    },
    {
     "data": {
      "image/png": "[encoded data removed]",
      "text/plain": [
       "<Figure size 640x480 with 1 Axes>"
      ]
     },
     "metadata": {},
     "output_type": "display_data"
    }
   ],
   "source": [
    "choice_bar(choice0, \"top choices\")\n",
    "choice_bar(choice4, \"bottom choices\")"
   ]
  },
  {
   "attachments": {},
   "cell_type": "markdown",
   "metadata": {},
   "source": [
    "**Problem 3**\n",
    "\n",
    "In ranked choice voting, percentages are important.\n",
    "We can make pie charts to visualize this.\n",
    "\n",
    "This function should take a dictionary like the one returned\n",
    "in problem 1, and generate a pie chart where each wedge\n",
    "represents a specific candidate. The wedges should contain\n",
    "the vote percentage.\n",
    "\n",
    "For information on pie charts, go here: https://matplotlib.org/stable/gallery/pie_and_polar_charts/pie_features.html"
   ]
  },
  {
   "cell_type": "code",
   "execution_count": 14,
   "metadata": {},
   "outputs": [],
   "source": [
    "def choice_pie(choice_data, title):\n",
    "    l_list, f_list = [],[]\n",
    "    for label, freq in choice_data.items():\n",
    "        l_list.append(label)\n",
    "        f_list.append(freq)\n",
    "\n",
    "    plt.title(title)\n",
    "    \n",
    "    plt.pie(f_list, labels = l_list)\n",
    "        \n",
    "    plt.show()"
   ]
  },
  {
   "cell_type": "code",
   "execution_count": 15,
   "metadata": {},
   "outputs": [
    {
     "data": {
      "image/png": "[encoded data removed]",
      "text/plain": [
       "<Figure size 640x480 with 1 Axes>"
      ]
     },
     "metadata": {},
     "output_type": "display_data"
    }
   ],
   "source": [
    "choice_pie(choice0, \"top choices\")"
   ]
  },
  {
   "attachments": {},
   "cell_type": "markdown",
   "metadata": {},
   "source": [
    "**Problem 4**\n",
    "\n",
    "Charts are helpful, but to automate ranked choice voting\n",
    "we need to calculate the percentages ourselves.\n",
    "\n",
    "This function should take a dictionary like the one returned\n",
    "in problem 1 and modify it so the values are no longer vote counts,\n",
    "but percentages of the total vote"
   ]
  },
  {
   "cell_type": "code",
   "execution_count": 16,
   "metadata": {},
   "outputs": [],
   "source": [
    "def add_pcts(choice_data):\n",
    "    sum = 0\n",
    "    for key in choice_data.keys():\n",
    "        sum += choice_data[key]\n",
    "\n",
    "    for key in choice_data.keys():\n",
    "        choice_data[key] = round(choice_data[key]/sum, 2)  * 100\n",
    "\n",
    "    return choice_data  "
   ]
  },
  {
   "cell_type": "code",
   "execution_count": 17,
   "metadata": {},
   "outputs": [
    {
     "name": "stdout",
     "output_type": "stream",
     "text": [
      "{'Black Widow': 35.0,\n",
      " 'Captain America': 14.000000000000002,\n",
      " 'Falcon': 25.0,\n",
      " 'Iron Man': 9.0,\n",
      " 'Thor': 17.0}\n"
     ]
    }
   ],
   "source": [
    "add_pcts(choice0)\n",
    "# This should print:\n",
    "# {'Black Widow': 35.0,\n",
    "#  'Captain America': 14.000000000000002,\n",
    "#  'Falcon': 25.0,\n",
    "#  'Iron Man': 9.0,\n",
    "#  'Thor': 17.0}\n",
    "pprint(choice0)"
   ]
  },
  {
   "attachments": {},
   "cell_type": "markdown",
   "metadata": {},
   "source": [
    "**Problem 5**\n",
    "\n",
    "When voting, we need to know who got the most votes.\n",
    "\n",
    "This function should take a dictionary like one that\n",
    "has been modified by add_pcts, and return a dictionary\n",
    "with keys 'name', and 'pct', containing the name and\n",
    "perect vote of the top candidate."
   ]
  },
  {
   "cell_type": "code",
   "execution_count": 18,
   "metadata": {},
   "outputs": [],
   "source": [
    "def get_top_choice(choice_data):\n",
    "    x = 0\n",
    "    name = ''\n",
    "    for item in choice_data.keys():\n",
    "        if choice_data[item] > x:\n",
    "            x = choice_data[item]\n",
    "            name = item\n",
    "    top = {'name':name, 'pct': x}\n",
    "    return top"
   ]
  },
  {
   "cell_type": "code",
   "execution_count": 19,
   "metadata": {},
   "outputs": [
    {
     "name": "stdout",
     "output_type": "stream",
     "text": [
      "winner: {'name': 'Black Widow', 'pct': 35.0}\n"
     ]
    }
   ],
   "source": [
    "top_choice = get_top_choice(choice0)\n",
    "# should print:\n",
    "# winner: {'name': 'Black Widow', 'pct': 35.0}\n",
    "print(\"winner:\", top_choice)"
   ]
  },
  {
   "attachments": {},
   "cell_type": "markdown",
   "metadata": {},
   "source": [
    "For ranked choice voting, it is also important to find\n",
    "the candidate with the fewest votes.\n",
    "\n",
    "This function should take a dictionary like one that\n",
    "has been modified by add_pcts, and return a dictionary\n",
    "with keys 'name', and 'pct', containing the name and\n",
    "perect vote of the bottom candidate."
   ]
  },
  {
   "cell_type": "code",
   "execution_count": 20,
   "metadata": {},
   "outputs": [],
   "source": [
    "def get_bottom_choice(choice_data):\n",
    "    min = 100\n",
    "    name = ''\n",
    "    for item in choice_data.keys():\n",
    "        if choice_data[item] < min:\n",
    "            min = choice_data[item]\n",
    "            name = item\n",
    "    bottom = {'name':name, 'pct': min}\n",
    "    return bottom"
   ]
  },
  {
   "cell_type": "code",
   "execution_count": 21,
   "metadata": {},
   "outputs": [
    {
     "name": "stdout",
     "output_type": "stream",
     "text": [
      "last place: {'name': 'Iron Man', 'pct': 9.0}\n"
     ]
    }
   ],
   "source": [
    "bottom_choice = get_bottom_choice(choice0)\n",
    "# should print:\n",
    "# last place: {'name': 'Iron Man', 'pct': 9.0}\n",
    "print('last place:', bottom_choice)"
   ]
  },
  {
   "attachments": {},
   "cell_type": "markdown",
   "metadata": {},
   "source": [
    "**Problem 6**\n",
    "\n",
    "In ranked choice voting, we need to be able to\n",
    "remove all votes for the last place candidate.\n",
    "\n",
    "This function should create a new list that is\n",
    "almost identical to the one generated by make_lists\n",
    "(problem 0), except it will not contain any values\n",
    "equal to the option parameter.\n",
    "\n",
    "For example, if Iron Man were given as option, then\n",
    "this function would create a new ballot list of\n",
    "lists, without any votes for Iron Man, but leaving\n",
    "everything else, and not changing the order."
   ]
  },
  {
   "cell_type": "code",
   "execution_count": 22,
   "metadata": {},
   "outputs": [
    {
     "data": {
      "text/plain": [
       "[['1st Choice', '2nd Choice', '3rd Choice', '4th Choice', '5th Choice'],\n",
       " ['Captain America', 'Falcon', 'Black Widow', 'Iron Man', 'Thor'],\n",
       " ['Black Widow', 'Thor', 'Falcon', 'Captain America', 'Iron Man'],\n",
       " ['Black Widow', 'Falcon', 'Iron Man', 'Captain America', 'Thor'],\n",
       " ['Iron Man', 'Black Widow', 'Captain America', 'Falcon', 'Thor'],\n",
       " ['Falcon', 'Thor', 'Captain America', 'Iron Man', 'Black Widow'],\n",
       " ['Black Widow', 'Falcon', 'Iron Man', 'Captain America', 'Thor'],\n",
       " ['Black Widow', 'Iron Man', 'Falcon', 'Captain America', 'Thor'],\n",
       " ['Captain America', 'Falcon', 'Black Widow', 'Thor', 'Iron Man'],\n",
       " ['Captain America', 'Falcon', 'Black Widow', 'Iron Man', 'Thor'],\n",
       " ['Falcon', 'Thor', 'Captain America', 'Black Widow', 'Iron Man'],\n",
       " ['Black Widow', 'Falcon', 'Falcon', 'Falcon', 'Thor'],\n",
       " ['Black Widow', 'Captain America', 'Falcon', 'Iron Man', 'Thor'],\n",
       " ['Thor', 'Falcon', 'Thor', 'Thor', 'Thor'],\n",
       " ['Black Widow', 'Falcon', 'Iron Man', 'Captain America', 'Thor'],\n",
       " ['Thor', 'Black Widow', 'Falcon', 'Iron Man', 'Captain America'],\n",
       " ['Falcon', 'Black Widow', 'Captain America', 'Iron Man', 'Thor'],\n",
       " ['Black Widow', 'Falcon', 'Iron Man', 'Captain America', 'Thor'],\n",
       " ['Falcon', 'Black Widow', 'Thor', 'Captain America', 'Iron Man'],\n",
       " ['Black Widow', 'Falcon', 'Captain America', 'Iron Man', 'Thor'],\n",
       " ['Captain America', 'Falcon', 'Thor', 'Thor', 'Black Widow'],\n",
       " ['Iron Man', 'Captain America', 'Black Widow', 'Falcon', 'Thor'],\n",
       " ['Black Widow', 'Falcon', 'Thor', 'Captain America', 'Iron Man'],\n",
       " ['Black Widow', 'Black Widow', 'Falcon', 'Falcon', 'Falcon'],\n",
       " ['Falcon', 'Black Widow', 'Captain America', 'Thor', 'Iron Man'],\n",
       " ['Black Widow', 'Captain America', 'Falcon', 'Iron Man', 'Thor'],\n",
       " ['Black Widow', 'Falcon', 'Iron Man', 'Captain America', 'Thor'],\n",
       " ['Falcon', 'Black Widow', 'Captain America', 'Iron Man', 'Thor'],\n",
       " ['Black Widow', 'Thor', 'Falcon', 'Iron Man', 'Captain America'],\n",
       " ['Black Widow', 'Falcon', 'Captain America', 'Iron Man', 'Thor'],\n",
       " ['Falcon', 'Thor', 'Black Widow', 'Captain America', 'Iron Man'],\n",
       " ['Captain America', 'Iron Man', 'Falcon', 'Black Widow', 'Thor'],\n",
       " ['Captain America', 'Falcon', 'Black Widow', 'Black Widow', 'Black Widow'],\n",
       " ['Falcon', 'Thor', 'Black Widow', 'Captain America', 'Iron Man'],\n",
       " ['Captain America', 'Falcon', 'Thor', 'Iron Man', 'Black Widow'],\n",
       " ['Black Widow', 'Falcon', 'Captain America', 'Thor', 'Iron Man'],\n",
       " ['Captain America', 'Falcon', 'Black Widow', 'Thor', 'Iron Man'],\n",
       " ['Black Widow', 'Falcon', 'Captain America', 'Thor', 'Iron Man'],\n",
       " ['Thor', 'Falcon', 'Black Widow', 'Captain America', 'Iron Man'],\n",
       " ['Captain America', 'Falcon', 'Black Widow', 'Thor', 'Iron Man'],\n",
       " ['Black Widow', 'Captain America', 'Falcon', 'Iron Man', 'Thor'],\n",
       " ['Black Widow', 'Falcon', 'Thor', 'Captain America', 'Iron Man'],\n",
       " ['Thor', 'Falcon', 'Black Widow', 'Captain America', 'Iron Man'],\n",
       " ['Black Widow', 'Falcon', 'Captain America', 'Iron Man', 'Thor'],\n",
       " ['Captain America', 'Falcon', 'Black Widow', 'Iron Man', 'Thor'],\n",
       " ['Black Widow', 'Falcon', 'Iron Man', 'Captain America', 'Thor'],\n",
       " ['Falcon', 'Black Widow', 'Thor', 'Captain America', 'Iron Man'],\n",
       " ['Falcon', 'Thor', 'Black Widow', 'Thor', 'Thor'],\n",
       " ['Thor', 'Thor', 'Thor', 'Thor', 'Thor'],\n",
       " ['Falcon', 'Black Widow', 'Captain America', 'Thor', 'Iron Man'],\n",
       " ['Iron Man', 'Black Widow', 'Captain America', 'Falcon', 'Thor'],\n",
       " ['Falcon', 'Iron Man', 'Black Widow', 'Captain America', 'Thor'],\n",
       " ['Iron Man', 'Falcon', 'Black Widow', 'Captain America', 'Captain America'],\n",
       " ['Captain America', 'Falcon', 'Black Widow', 'Iron Man', 'Thor'],\n",
       " ['Thor', 'Falcon', 'Black Widow', 'Captain America', 'Iron Man'],\n",
       " ['Iron Man', 'Captain America', 'Black Widow', 'Falcon', 'Thor'],\n",
       " ['Thor', 'Black Widow', 'Falcon', 'Iron Man', 'Captain America'],\n",
       " ['Captain America', 'Iron Man', 'Falcon', 'Black Widow', 'Thor'],\n",
       " ['Thor', 'Thor', 'Thor', 'Thor', 'Thor'],\n",
       " ['Black Widow', 'Falcon', 'Iron Man', 'Captain America', 'Thor'],\n",
       " ['Black Widow', 'Falcon', 'Iron Man', 'Captain America', 'Thor'],\n",
       " ['Iron Man', 'Captain America', 'Falcon', 'Black Widow', 'Thor'],\n",
       " ['Thor', 'Black Widow', 'Falcon', 'Iron Man', 'Captain America'],\n",
       " ['Black Widow', 'Black Widow', 'Black Widow', 'Falcon', 'Falcon'],\n",
       " ['Thor', 'Falcon', 'Black Widow', 'Iron Man', 'Captain America'],\n",
       " ['Black Widow', 'Thor', 'Falcon', 'Black Widow', 'Black Widow'],\n",
       " ['Falcon', 'Black Widow', 'Thor', 'Captain America', 'Iron Man'],\n",
       " ['Thor', 'Falcon', 'Black Widow', 'Captain America', 'Iron Man'],\n",
       " ['Iron Man', 'Black Widow', 'Captain America', 'Falcon', 'Thor'],\n",
       " ['Thor', 'Thor', 'Falcon', 'Falcon', 'Black Widow'],\n",
       " ['Falcon', 'Black Widow', 'Captain America', 'Iron Man', 'Thor'],\n",
       " ['Black Widow', 'Falcon', 'Thor', 'Captain America', 'Iron Man'],\n",
       " ['Falcon', 'Captain America', 'Thor', 'Black Widow', 'Iron Man'],\n",
       " ['Captain America', 'Falcon', 'Iron Man', 'Black Widow', 'Thor'],\n",
       " ['Black Widow', 'Falcon', 'Iron Man', 'Captain America', 'Thor'],\n",
       " ['Black Widow', 'Falcon', 'Captain America', 'Iron Man', 'Captain America'],\n",
       " ['Iron Man', 'Captain America', 'Black Widow', 'Falcon', 'Thor'],\n",
       " ['Falcon', 'Falcon', 'Captain America', 'Captain America', 'Thor'],\n",
       " ['Falcon', 'Black Widow', 'Captain America', 'Thor', 'Iron Man'],\n",
       " ['Black Widow', 'Iron Man', 'Falcon', 'Captain America', 'Thor'],\n",
       " ['Black Widow', 'Black Widow', 'Black Widow', 'Black Widow', 'Black Widow'],\n",
       " ['Falcon', 'Thor', 'Black Widow', 'Black Widow', 'Thor'],\n",
       " ['Black Widow', 'Falcon', 'Iron Man', 'Captain America', 'Thor'],\n",
       " ['Falcon', 'Captain America', 'Iron Man', 'Iron Man', 'Iron Man'],\n",
       " ['Black Widow', 'Black Widow', 'Black Widow', 'Falcon', 'Falcon'],\n",
       " ['Falcon', 'Black Widow', 'Iron Man', 'Captain America', 'Thor'],\n",
       " ['Falcon', 'Falcon', 'Thor', 'Thor', 'Thor'],\n",
       " ['Falcon', 'Black Widow', 'Thor', 'Captain America', 'Iron Man'],\n",
       " ['Thor', 'Thor', 'Thor', 'Thor', 'Falcon'],\n",
       " ['Black Widow', 'Falcon', 'Thor', 'Captain America', 'Iron Man'],\n",
       " ['Captain America', 'Falcon', 'Iron Man', 'Black Widow', 'Thor'],\n",
       " ['Black Widow', 'Falcon', 'Thor', 'Captain America', 'Iron Man'],\n",
       " ['Thor', 'Thor', 'Thor', 'Thor', 'Thor'],\n",
       " ['Black Widow', 'Falcon', 'Thor', 'Captain America', 'Iron Man'],\n",
       " ['Thor', 'Black Widow', 'Falcon', 'Iron Man', 'Captain America'],\n",
       " ['Falcon', 'Thor', 'Thor', 'Thor', 'Thor'],\n",
       " ['Iron Man', 'Captain America', 'Black Widow', 'Black Widow', 'Black Widow'],\n",
       " ['Falcon', 'Falcon', 'Falcon', 'Falcon', 'Falcon'],\n",
       " ['Thor', 'Thor', 'Thor', 'Thor', 'Thor'],\n",
       " ['Falcon', 'Black Widow', 'Thor', 'Thor', 'Thor'],\n",
       " ['Thor', 'Black Widow', 'Falcon', 'Captain America', 'Iron Man']]"
      ]
     },
     "execution_count": 22,
     "metadata": {},
     "output_type": "execute_result"
    }
   ],
   "source": [
    "choices"
   ]
  },
  {
   "cell_type": "code",
   "execution_count": 23,
   "metadata": {},
   "outputs": [],
   "source": [
    "def remove_option(data, option):\n",
    "    new_data = []\n",
    "    for ballot in data:\n",
    "        copy_ballot = ballot.copy()\n",
    "        while option in copy_ballot:\n",
    "            copy_ballot.remove(option)\n",
    "        new_data.append(copy_ballot)\n",
    "    return new_data"
   ]
  },
  {
   "cell_type": "code",
   "execution_count": 24,
   "metadata": {},
   "outputs": [
    {
     "name": "stdout",
     "output_type": "stream",
     "text": [
      "[['1st Choice', '2nd Choice', '3rd Choice', '4th Choice', '5th Choice'],\n",
      " ['Captain America', 'Falcon', 'Black Widow', 'Thor'],\n",
      " ['Black Widow', 'Thor', 'Falcon', 'Captain America'],\n",
      " ['Black Widow', 'Falcon', 'Captain America', 'Thor'],\n",
      " ['Black Widow', 'Captain America', 'Falcon', 'Thor']]\n"
     ]
    }
   ],
   "source": [
    "choices = remove_option(choices, bottom_choice['name'])\n",
    "# The printed list should not contain Iron Man\n",
    "pprint(choices[:5])"
   ]
  },
  {
   "attachments": {},
   "cell_type": "markdown",
   "metadata": {},
   "source": [
    "**Problem 7**\n",
    "\n",
    "In problem 6, we removed Iron Man, let's see\n",
    "how things changes."
   ]
  },
  {
   "cell_type": "code",
   "execution_count": 25,
   "metadata": {},
   "outputs": [],
   "source": [
    "def isolate_choice_non_pandas(data, rank):\n",
    "    single_choice = {}\n",
    "    for index in range(1, len(data)):\n",
    "        choice = data[index][rank] \n",
    "        if choice not in single_choice:\n",
    "            single_choice[choice] = 1\n",
    "        else:\n",
    "            single_choice[choice] += 1\n",
    "    return single_choice"
   ]
  },
  {
   "cell_type": "code",
   "execution_count": 26,
   "metadata": {},
   "outputs": [
    {
     "name": "stdout",
     "output_type": "stream",
     "text": [
      "{'Black Widow': 38, 'Captain America': 19, 'Falcon': 26, 'Thor': 17}\n"
     ]
    }
   ],
   "source": [
    "# First, recalcualte the the top choice votes.\n",
    "choice_data = isolate_choice_non_pandas(choices, 0)\n",
    "pprint(choice_data)\n"
   ]
  },
  {
   "cell_type": "code",
   "execution_count": 27,
   "metadata": {},
   "outputs": [
    {
     "data": {
      "image/png": "[encoded data removed]",
      "text/plain": [
       "<Figure size 640x480 with 1 Axes>"
      ]
     },
     "metadata": {},
     "output_type": "display_data"
    },
    {
     "name": "stderr",
     "output_type": "stream",
     "text": [
      "/opt/anaconda3/lib/python3.9/site-packages/seaborn/_decorators.py:36: FutureWarning: Pass the following variables as keyword args: x, y. From version 0.12, the only valid positional argument will be `data`, and passing other arguments without an explicit keyword will result in an error or misinterpretation.\n",
      "  warnings.warn(\n"
     ]
    },
    {
     "data": {
      "image/png": "[encoded data removed]",
      "text/plain": [
       "<Figure size 640x480 with 1 Axes>"
      ]
     },
     "metadata": {},
     "output_type": "display_data"
    }
   ],
   "source": [
    "# Now display a bar and pie graphs of the new results.\n",
    "\n",
    "choice_pie(choice_data, \"Removed Iron Man\")\n",
    "choice_bar(choice_data, \"Removed Iron Man \")"
   ]
  },
  {
   "cell_type": "code",
   "execution_count": 28,
   "metadata": {},
   "outputs": [
    {
     "name": "stdout",
     "output_type": "stream",
     "text": [
      "{'Black Widow': 38.0, 'Captain America': 19.0, 'Falcon': 26.0, 'Thor': 17.0}\n"
     ]
    }
   ],
   "source": [
    "# Calculate precentages for the new results\n",
    "\n",
    "pprint(add_pcts(choice_data))"
   ]
  },
  {
   "attachments": {},
   "cell_type": "markdown",
   "metadata": {},
   "source": [
    "**Problem 8**\n",
    "\n",
    "Now, let's automate the ranked choice voting\n",
    "process.\n",
    "\n",
    "This function should:\n",
    "    get the choices for rank 0\n",
    "    display a bar graph of them: include the number of removed candidates in the title\n",
    "    display a pie chart of them: include the number of removed candidates in the title\n",
    "    calculate the percentages\n",
    "    find the top choice\n",
    "    find the bottom choice\n",
    "    print out the bottom choice\n",
    "    remove the bottom choice\n",
    "    repeat all these steps until the top choice has over 50% of the vote\n",
    "    At the end, return the top choice winner"
   ]
  },
  {
   "cell_type": "code",
   "execution_count": 29,
   "metadata": {},
   "outputs": [],
   "source": [
    "# First off, lets reset the data since it has been\n",
    "# modified for prior tests.\n",
    "\n",
    "text = open('avengers.csv').read().strip()\n",
    "choices = make_lists(text)"
   ]
  },
  {
   "cell_type": "code",
   "execution_count": 45,
   "metadata": {},
   "outputs": [],
   "source": [
    "def ranked_choice_voting(data):\n",
    "    choice0 = add_pcts(isolate_choice_non_pandas(data,  0))\n",
    "    while get_top_choice(choice0)[\"pct\"] < 50:\n",
    "        data = remove_option(data, get_bottom_choice(choice0)[\"name\"])\n",
    "        data = [item for item in data if item != []]\n",
    "        choice0 = add_pcts(isolate_choice_non_pandas(data,  0))\n",
    "    top_choice = {'name': get_top_choice(choice0)[\"name\"], 'pct': get_top_choice(choice0)[\"pct\"]}\n",
    "    return top_choice\n"
   ]
  },
  {
   "cell_type": "code",
   "execution_count": 46,
   "metadata": {},
   "outputs": [
    {
     "name": "stdout",
     "output_type": "stream",
     "text": [
      "{'name': 'Falcon', 'pct': 51.0}\n"
     ]
    }
   ],
   "source": [
    "winner = ranked_choice_voting(choices)\n",
    "pprint(winner)"
   ]
  },
  {
   "cell_type": "code",
   "execution_count": null,
   "metadata": {},
   "outputs": [],
   "source": []
  }
 ],
 "metadata": {
  "kernelspec": {
   "display_name": "base",
   "language": "python",
   "name": "python3"
  },
  "language_info": {
   "codemirror_mode": {
    "name": "ipython",
    "version": 3
   },
   "file_extension": ".py",
   "mimetype": "text/x-python",
   "name": "python",
   "nbconvert_exporter": "python",
   "pygments_lexer": "ipython3",
   "version": "3.9.13"
  },
  "orig_nbformat": 4
 },
 "nbformat": 4,
 "nbformat_minor": 2
}
