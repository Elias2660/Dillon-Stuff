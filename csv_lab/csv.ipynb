{
 "cells": [
  {
   "attachments": {},
   "cell_type": "markdown",
   "metadata": {},
   "source": [
    "# CSV Lab"
   ]
  },
  {
   "cell_type": "code",
   "execution_count": 32,
   "metadata": {
    "vscode": {
     "languageId": "powershell"
    }
   },
   "outputs": [
    {
     "name": "stdout",
     "output_type": "stream",
     "text": [
      "Requirement already satisfied: pandas in /opt/homebrew/lib/python3.11/site-packages (2.0.1)\n",
      "Requirement already satisfied: python-dateutil>=2.8.2 in /Users/eliasxu/Library/Python/3.11/lib/python/site-packages (from pandas) (2.8.2)\n",
      "Requirement already satisfied: pytz>=2020.1 in /opt/homebrew/lib/python3.11/site-packages (from pandas) (2023.3)\n",
      "Requirement already satisfied: tzdata>=2022.1 in /opt/homebrew/lib/python3.11/site-packages (from pandas) (2023.3)\n",
      "Requirement already satisfied: numpy>=1.21.0 in /opt/homebrew/lib/python3.11/site-packages (from pandas) (1.24.3)\n",
      "Requirement already satisfied: six>=1.5 in /Users/eliasxu/Library/Python/3.11/lib/python/site-packages (from python-dateutil>=2.8.2->pandas) (1.16.0)\n",
      "\n",
      "\u001b[1m[\u001b[0m\u001b[34;49mnotice\u001b[0m\u001b[1;39;49m]\u001b[0m\u001b[39;49m A new release of pip available: \u001b[0m\u001b[31;49m22.3.1\u001b[0m\u001b[39;49m -> \u001b[0m\u001b[32;49m23.1.2\u001b[0m\n",
      "\u001b[1m[\u001b[0m\u001b[34;49mnotice\u001b[0m\u001b[1;39;49m]\u001b[0m\u001b[39;49m To update, run: \u001b[0m\u001b[32;49mpython3.11 -m pip install --upgrade pip\u001b[0m\n",
      "Note: you may need to restart the kernel to use updated packages.\n"
     ]
    }
   ],
   "source": [
    "pip install pandas"
   ]
  },
  {
   "cell_type": "code",
   "execution_count": 33,
   "metadata": {},
   "outputs": [],
   "source": [
    "#necessary imports\n",
    "from pprint import pprint\n",
    "import pandas as pd"
   ]
  },
  {
   "attachments": {},
   "cell_type": "markdown",
   "metadata": {},
   "source": [
    "**Question 0**\n",
    "\n",
    "There is a file called 'nyc_pop.csv' that you can find in\n",
    "the same place as this lab file. Download it and put it\n",
    "in the same directory as this file. It may help to view the\n",
    "\"Raw\" version of the nyc_pop.csv file on github.\n",
    "\n",
    "Write code that will open 'nyc_pop.csv' and the read its\n",
    "contents into a string called text."
   ]
  },
  {
   "cell_type": "code",
   "execution_count": 34,
   "metadata": {},
   "outputs": [],
   "source": [
    "file = \"nyc_pop.csv\"\n",
    "data = \"\"\n",
    "\n",
    "with open(file, \"r\") as text:\n",
    "    text = text.read()\n",
    "\n",
    "data = [[item for item in row.split(\",\")] for row in data.split(\"\\n\")]"
   ]
  },
  {
   "cell_type": "code",
   "execution_count": 35,
   "metadata": {},
   "outputs": [
    {
     "data": {
      "text/plain": [
       "[['']]"
      ]
     },
     "execution_count": 35,
     "metadata": {},
     "output_type": "execute_result"
    }
   ],
   "source": [
    "data[:5]"
   ]
  },
  {
   "cell_type": "code",
   "execution_count": 36,
   "metadata": {},
   "outputs": [],
   "source": [
    "pandas_data = pd.read_csv(file)"
   ]
  },
  {
   "attachments": {},
   "cell_type": "markdown",
   "metadata": {},
   "source": [
    "**Question 1**\n",
    "\n",
    "You should notice that the file contains population data for\n",
    "The boroughs of NYC from 1790 - 2010. It is formatted such that\n",
    "Each line represents one year, and contains a series of numbers\n",
    "separated by ','. This is a common way of representing data in\n",
    "plain text, since it is easily accessible in programming. The\n",
    "file type is called 'comma separated value' or 'csv'.\n",
    "\n",
    "Often, the first line of a .csv file will contain the headers\n",
    "that describe what each value represents.\n",
    "\n",
    "Write a function that will take a string representing the text\n",
    "of a file that looks similar to 'nyc_pop.csv' and returns a list\n",
    "that contains only the headers."
   ]
  },
  {
   "cell_type": "code",
   "execution_count": 37,
   "metadata": {},
   "outputs": [],
   "source": [
    "def get_headers(s):\n",
    "    g = [item for item in data[0]]\n",
    "    return g"
   ]
  },
  {
   "cell_type": "code",
   "execution_count": 38,
   "metadata": {},
   "outputs": [
    {
     "name": "stdout",
     "output_type": "stream",
     "text": [
      "['']\n"
     ]
    }
   ],
   "source": [
    "# Should print\n",
    "# ['Year', 'Manhattan', 'Brooklyn', 'Queens', 'Bronx', 'Staten Island']\n",
    "pop_headers = get_headers(text)\n",
    "print(pop_headers)"
   ]
  },
  {
   "attachments": {},
   "cell_type": "markdown",
   "metadata": {},
   "source": [
    "**Question 2**\n",
    "\n",
    "Write a function that will take a string representing the text\n",
    "of file that looks similar to 'nyc_pop.csv' and returns a list of\n",
    "lists.\n",
    "Each sublist should represent a line from the file.\n",
    "Each element in a sublist should represent one value."
   ]
  },
  {
   "cell_type": "code",
   "execution_count": 39,
   "metadata": {},
   "outputs": [],
   "source": [
    "def get_data(s):\n",
    "    data = [[item for item in row.split(\",\")] for row in s.split(\"\\n\")[:-1]]\n",
    "    for index in range(1, len(data)):\n",
    "        for num_index in range(6):\n",
    "            data[index][num_index] = int(data[index][num_index])\n",
    "    return data"
   ]
  },
  {
   "cell_type": "code",
   "execution_count": 40,
   "metadata": {},
   "outputs": [
    {
     "name": "stdout",
     "output_type": "stream",
     "text": [
      "[['Year', 'Manhattan', 'Brooklyn', 'Queens', 'Bronx', 'Staten Island'],\n",
      " [1790, 33131, 4549, 6159, 1781, 3827],\n",
      " [1800, 60515, 5740, 6642, 1755, 4563],\n",
      " [1810, 96373, 8303, 7444, 2267, 5347],\n",
      " [1820, 123706, 11187, 8246, 2782, 6135],\n",
      " [1830, 202589, 20535, 9049, 3023, 7082],\n",
      " [1840, 312710, 47613, 14480, 5346, 10965],\n",
      " [1850, 515547, 138882, 18593, 8032, 15061],\n",
      " [1860, 813669, 279122, 32903, 23593, 25492],\n",
      " [1870, 942292, 419921, 45468, 37393, 33029],\n",
      " [1880, 1164673, 599495, 56559, 51980, 38991],\n",
      " [1890, 1441216, 838547, 87050, 88908, 51693],\n",
      " [1900, 1850093, 1166582, 152999, 200507, 67021],\n",
      " [1910, 2331542, 1634351, 284041, 430980, 85969],\n",
      " [1920, 2284103, 2018356, 469042, 732016, 116531],\n",
      " [1930, 1867312, 2560401, 1079129, 1265258, 158346],\n",
      " [1940, 1889924, 2698285, 1297634, 1394711, 174441],\n",
      " [1950, 1960101, 2738175, 1550849, 1451277, 191555],\n",
      " [1960, 1698281, 2627319, 1809578, 1424815, 221991],\n",
      " [1970, 1539233, 2602012, 1986473, 1471701, 295443],\n",
      " [1980, 1428285, 2230936, 1891325, 1168972, 352121],\n",
      " [1990, 1487536, 2300664, 1951598, 1203789, 378977],\n",
      " [2000, 1537195, 2465326, 2229379, 1332650, 443728],\n",
      " [2010, 1585873, 2504700, 2230722, 1385108, 468730]]\n"
     ]
    }
   ],
   "source": [
    "# Should print:\n",
    "# [['1790', '33131', '4549', '6159', '1781', '3827'], ['1800', '60515', '5740', '6642', '1755', '4563'],\n",
    "# There will be more sublists after that.\n",
    "pop_data = get_data(text)\n",
    "pprint(pop_data)"
   ]
  },
  {
   "attachments": {},
   "cell_type": "markdown",
   "metadata": {},
   "source": [
    "**Problem 3**\n",
    "\n",
    "Write a function that will take a list of lists similar to pop_data,\n",
    "where every element is a string, and creates a dictionary where the\n",
    "the keys are the years, as strings, and the values are the lists of\n",
    "population numbers for the given year, as numbers. Note that the\n",
    "key is also at index 0 in a given list.\n",
    "\n",
    "The first list is: ['1790', '33131', '4549', '6159', '1781', '3827']\n",
    "As a dictionary entry, it would look like this:\n",
    "{'1790': [33131, 4549, 6159, 1781, 3827]}"
   ]
  },
  {
   "cell_type": "code",
   "execution_count": 41,
   "metadata": {},
   "outputs": [],
   "source": [
    "def make_year_dict(data):\n",
    "    year_d = {year[0]: year[1:] for  year in data if year[0] != \"Year\"}\n",
    "    return year_d\n",
    "\n"
   ]
  },
  {
   "cell_type": "code",
   "execution_count": 42,
   "metadata": {},
   "outputs": [
    {
     "name": "stdout",
     "output_type": "stream",
     "text": [
      "{1790: [33131, 4549, 6159, 1781, 3827],\n",
      " 1800: [60515, 5740, 6642, 1755, 4563],\n",
      " 1810: [96373, 8303, 7444, 2267, 5347],\n",
      " 1820: [123706, 11187, 8246, 2782, 6135],\n",
      " 1830: [202589, 20535, 9049, 3023, 7082],\n",
      " 1840: [312710, 47613, 14480, 5346, 10965],\n",
      " 1850: [515547, 138882, 18593, 8032, 15061],\n",
      " 1860: [813669, 279122, 32903, 23593, 25492],\n",
      " 1870: [942292, 419921, 45468, 37393, 33029],\n",
      " 1880: [1164673, 599495, 56559, 51980, 38991],\n",
      " 1890: [1441216, 838547, 87050, 88908, 51693],\n",
      " 1900: [1850093, 1166582, 152999, 200507, 67021],\n",
      " 1910: [2331542, 1634351, 284041, 430980, 85969],\n",
      " 1920: [2284103, 2018356, 469042, 732016, 116531],\n",
      " 1930: [1867312, 2560401, 1079129, 1265258, 158346],\n",
      " 1940: [1889924, 2698285, 1297634, 1394711, 174441],\n",
      " 1950: [1960101, 2738175, 1550849, 1451277, 191555],\n",
      " 1960: [1698281, 2627319, 1809578, 1424815, 221991],\n",
      " 1970: [1539233, 2602012, 1986473, 1471701, 295443],\n",
      " 1980: [1428285, 2230936, 1891325, 1168972, 352121],\n",
      " 1990: [1487536, 2300664, 1951598, 1203789, 378977],\n",
      " 2000: [1537195, 2465326, 2229379, 1332650, 443728],\n",
      " 2010: [1585873, 2504700, 2230722, 1385108, 468730]}\n"
     ]
    }
   ],
   "source": [
    "pop_dict = make_year_dict(pop_data)\n",
    "pprint(pop_dict)"
   ]
  },
  {
   "attachments": {},
   "cell_type": "markdown",
   "metadata": {},
   "source": [
    "**Question 4**\n",
    "\n",
    "The data in each value of pop_dict represents borough information,\n",
    "but that is currently not clear.\n",
    "\n",
    "Write a function that takes a dictionary created by make_year_dict,\n",
    "and a list of headers.\n",
    "Ths function should modify each value in the paramater dictionary to\n",
    "be dictionaries where the keys are headers from the provided header list\n",
    "and the values are the corresponding numbers from the existing value list.\n",
    "\n",
    "For example, the first year entry is currently:\n",
    "{'1790': [33131, 4549, 6159, 1781, 3827],\n",
    "After this function runs, it should be:\n",
    "{'1790': {'Bronx': 1781, 'Brooklyn': 4549, 'Manhattan': 33131, 'Queens': 6159,'Staten Island': 3827},\n",
    "\n",
    "Note the header list contains 'Year', but that does not have a corresponding\n",
    "value in the value lists."
   ]
  },
  {
   "cell_type": "code",
   "execution_count": 43,
   "metadata": {},
   "outputs": [],
   "source": [
    "def combine_dict(year_dict, headers):\n",
    "    new_dict = {}\n",
    "    for key in year_dict.keys():\n",
    "        new_dict[key] = {headers[index]: year_dict[key][index] for index in range(5)}\n",
    "    return new_dict\n",
    "\n"
   ]
  },
  {
   "cell_type": "code",
   "execution_count": 44,
   "metadata": {},
   "outputs": [
    {
     "name": "stdout",
     "output_type": "stream",
     "text": [
      "{'Bronx': 1781,\n",
      " 'Brooklyn': 4549,\n",
      " 'Manhattan': 33131,\n",
      " 'Queens': 6159,\n",
      " 'Staten Island': 3827}\n"
     ]
    }
   ],
   "source": [
    "\n",
    "pop_headers = pop_data[0][1:]\n",
    "pop_dict = combine_dict(pop_dict, pop_headers)\n",
    "pprint(pop_dict[1790])"
   ]
  },
  {
   "cell_type": "code",
   "execution_count": 45,
   "metadata": {},
   "outputs": [
    {
     "data": {
      "text/plain": [
       "['Manhattan', 'Brooklyn', 'Queens', 'Bronx', 'Staten Island']"
      ]
     },
     "execution_count": 45,
     "metadata": {},
     "output_type": "execute_result"
    }
   ],
   "source": [
    "pop_data[0][1:]"
   ]
  },
  {
   "attachments": {},
   "cell_type": "markdown",
   "metadata": {},
   "source": [
    "**Problem 5**\n",
    "\n",
    "Write a function that will take as a parameter a dictionary\n",
    "created by make_year_dict and then modified by combine_dict.\n",
    "It should add a new entry to each year dictionary with a key of\n",
    "'total' and a value that is the total population of all 5 boroughs."
   ]
  },
  {
   "cell_type": "code",
   "execution_count": 49,
   "metadata": {},
   "outputs": [],
   "source": [
    "def add_totals(d):\n",
    "    for year in d.keys():\n",
    "        sum = 0\n",
    "        for boro in d[year].keys():\n",
    "            sum += d[year][boro]\n",
    "        d[year][\"total\"] = sum\n",
    "    \n",
    "    return d\n"
   ]
  },
  {
   "cell_type": "code",
   "execution_count": 50,
   "metadata": {},
   "outputs": [
    {
     "name": "stdout",
     "output_type": "stream",
     "text": [
      "{'Bronx': 1781,\n",
      " 'Brooklyn': 4549,\n",
      " 'Manhattan': 33131,\n",
      " 'Queens': 6159,\n",
      " 'Staten Island': 3827,\n",
      " 'total': 98894}\n"
     ]
    }
   ],
   "source": [
    "            \n",
    "pop_dict = add_totals(pop_dict)\n",
    "pprint(pop_dict[1790])"
   ]
  },
  {
   "cell_type": "code",
   "execution_count": 48,
   "metadata": {},
   "outputs": [
    {
     "data": {
      "text/plain": [
       "3827"
      ]
     },
     "execution_count": 48,
     "metadata": {},
     "output_type": "execute_result"
    }
   ],
   "source": [
    "pop_dict[1790][\"Staten Island\"]"
   ]
  },
  {
   "attachments": {},
   "cell_type": "markdown",
   "metadata": {},
   "source": [
    "**Question 6**\n",
    "\n",
    "What was all of this for?\n",
    "\n",
    "Computer programming is an invaluable tool when it comes to\n",
    "data analysis. But before we can analyze the data, we need to\n",
    "get it in a form that python understands, as opposed to text.\n",
    "You've just taken raw text, and converted it into a python structure\n",
    "(specifically, a dictionary), that we can now use to help answer\n",
    "real questions about the data.\n",
    "\n",
    "Use code to answer the following questions. Print statements are\n",
    "already provided, update each ansX variable with the correct answer.\n",
    "you made add other variables if needed."
   ]
  },
  {
   "cell_type": "code",
   "execution_count": 54,
   "metadata": {},
   "outputs": [
    {
     "name": "stdout",
     "output_type": "stream",
     "text": [
      "years with data: [1790, 1800, 1810, 1820, 1830, 1840, 1850, 1860, 1870, 1880, 1890, 1900, 1910, 1920, 1930, 1940, 1950, 1960, 1970, 1980, 1990, 2000, 2010]\n",
      "nyc population 1880: 3823396\n",
      "nyc population 2010: 16350266\n",
      "bk population 1970: 2602012\n",
      "nyc population change, 1900 - 2000: 9142152\n",
      "% queens of total nyc population 2010: 13.643337668023262\n",
      "Is the population of Brooklyn smaller than Queens in 2010? False\n"
     ]
    }
   ],
   "source": [
    "# What years do we have population data for?\n",
    "ans0 = [key for key in pop_dict]\n",
    "print('years with data:', ans0)\n",
    "\n",
    "# How many people lived in NYC in 1880?\n",
    "ans1 = pop_dict[1880][\"total\"]\n",
    "print('nyc population 1880:', ans1)\n",
    "\n",
    "# How many people lived in NYC in 2010?\n",
    "ans2 = pop_dict[2010][\"total\"]\n",
    "print('nyc population 2010:', ans2)\n",
    "\n",
    "# How many people lived in Brooklyn in 1970?\n",
    "ans3 = pop_dict[1970][\"Brooklyn\"]\n",
    "print('bk population 1970:', ans3)\n",
    "\n",
    "# What was the change in total population from 1900 to 2000?\n",
    "ans4 = pop_dict[2000][\"total\"] - pop_dict[1900][\"total\"]\n",
    "print('nyc population change, 1900 - 2000:', ans4)\n",
    "\n",
    "# What percentage of the total NYC population did Queens account for in 2010?\n",
    "ans5 = pop_dict[2010][\"Queens\"]/pop_dict[2010][\"total\"] * 100\n",
    "print('% queens of total nyc population 2010:', ans5)\n",
    "\n",
    "\n",
    "# Come up with your own question that can be answered using the population data.\n",
    "# What is your question:\n",
    "question = 'Is the population of Brooklyn smaller than Queens in 2010?'\n",
    "#\n",
    "# What is the answer? (also the code to find your answer)\n",
    "ans6 = pop_dict[2010][\"Brooklyn\"] < pop_dict[2010][\"Queens\"]\n",
    "print(question, ans6)"
   ]
  },
  {
   "cell_type": "code",
   "execution_count": null,
   "metadata": {},
   "outputs": [],
   "source": []
  }
 ],
 "metadata": {
  "kernelspec": {
   "display_name": "Python 3",
   "language": "python",
   "name": "python3"
  },
  "language_info": {
   "codemirror_mode": {
    "name": "ipython",
    "version": 3
   },
   "file_extension": ".py",
   "mimetype": "text/x-python",
   "name": "python",
   "nbconvert_exporter": "python",
   "pygments_lexer": "ipython3",
   "version": "3.11.2"
  },
  "orig_nbformat": 4
 },
 "nbformat": 4,
 "nbformat_minor": 2
}
