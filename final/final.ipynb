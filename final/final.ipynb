{
 "cells": [
  {
   "attachments": {},
   "cell_type": "markdown",
   "metadata": {},
   "source": [
    "# Creating a linear model that predicts concrete strength\n",
    "\n",
    "Hey guys! In this notbook we'll be creating and training a linear model that estimates the strength of concrete.\n",
    "\n",
    "**A lot of times, don't you just want to know what strength your concrete has, but you only have a computer and no budget for stupid concrete ingredients? Well, here we'll create a simple linear model to determine the strength of concrete using a simpe dataset!!!**\n",
    "\n",
    "Please download the dataset from this link: https://www.kaggle.com/datasets/sinamhd9/concrete-comprehensive-strength\n",
    "\n",
    "This project will be devided into three sections:\n",
    "\n",
    "**Section 1**: Processing data\n",
    "\n",
    "**Section 2**: Training Model\n",
    "\n",
    "**Section 3**: Creating Answers\n",
    "\n"
   ]
  },
  {
   "attachments": {},
   "cell_type": "markdown",
   "metadata": {},
   "source": [
    "## Part 1"
   ]
  },
  {
   "cell_type": "code",
   "execution_count": 2,
   "metadata": {},
   "outputs": [],
   "source": [
    "#some stuff that we go to inport for everything to work\n",
    "\n",
    "import pandas as pd\n",
    "import matplotlib.pyplot as plt\n",
    "import numpy as np\n",
    "from scipy import stats\n",
    "from sklearn.model_selection import train_test_split\n",
    "\n",
    "\n",
    "%matplotlib inline"
   ]
  },
  {
   "cell_type": "code",
   "execution_count": 3,
   "metadata": {},
   "outputs": [],
   "source": [
    "#get the data from the file\n",
    "def get_data():\n",
    "    \"\"\"\n",
    "    get_data() -> pandas dataframe\n",
    "\n",
    "    Description:\n",
    "    This function will read the data and  and turn its columns into something more readable\n",
    "\n",
    "    \"\"\"\n",
    "    data = pd.read_excel(\"Concrete_Data.xls\")\n",
    "    cols = {\"Cement (component 1)(kg in a m^3 mixture)\": \"Cement\",\n",
    "             \"Blast Furnace Slag (component 2)(kg in a m^3 mixture)\": \"Slag\",\n",
    "               \"Fly Ash (component 3)(kg in a m^3 mixture)\": \"Fly_Ash\",\n",
    "               \"Water  (component 4)(kg in a m^3 mixture)\":\"Water\",\n",
    "               \"Superplasticizer (component 5)(kg in a m^3 mixture)\": \"Super_P\",\n",
    "               \"Coarse Aggregate  (component 6)(kg in a m^3 mixture)\": \"Coarse_Agg\",\n",
    "               \"Fine Aggregate (component 7)(kg in a m^3 mixture)\":\"Fine_Agg\",\n",
    "               \"Age (day)\": \"Age\",\n",
    "               \"Concrete compressive strength(MPa, megapascals) \": \"Compressive_Strength\"\n",
    "               }\n",
    "    return data.rename(columns=cols)"
   ]
  },
  {
   "cell_type": "code",
   "execution_count": 4,
   "metadata": {},
   "outputs": [
    {
     "data": {
      "text/html": [
       "<div>\n",
       "<style scoped>\n",
       "    .dataframe tbody tr th:only-of-type {\n",
       "        vertical-align: middle;\n",
       "    }\n",
       "\n",
       "    .dataframe tbody tr th {\n",
       "        vertical-align: top;\n",
       "    }\n",
       "\n",
       "    .dataframe thead th {\n",
       "        text-align: right;\n",
       "    }\n",
       "</style>\n",
       "<table border=\"1\" class=\"dataframe\">\n",
       "  <thead>\n",
       "    <tr style=\"text-align: right;\">\n",
       "      <th></th>\n",
       "      <th>Cement</th>\n",
       "      <th>Slag</th>\n",
       "      <th>Fly_Ash</th>\n",
       "      <th>Water</th>\n",
       "      <th>Super_P</th>\n",
       "      <th>Coarse_Agg</th>\n",
       "      <th>Fine_Agg</th>\n",
       "      <th>Age</th>\n",
       "      <th>Compressive_Strength</th>\n",
       "    </tr>\n",
       "  </thead>\n",
       "  <tbody>\n",
       "    <tr>\n",
       "      <th>0</th>\n",
       "      <td>540.0</td>\n",
       "      <td>0.0</td>\n",
       "      <td>0.0</td>\n",
       "      <td>162.0</td>\n",
       "      <td>2.5</td>\n",
       "      <td>1040.0</td>\n",
       "      <td>676.0</td>\n",
       "      <td>28</td>\n",
       "      <td>79.986111</td>\n",
       "    </tr>\n",
       "    <tr>\n",
       "      <th>1</th>\n",
       "      <td>540.0</td>\n",
       "      <td>0.0</td>\n",
       "      <td>0.0</td>\n",
       "      <td>162.0</td>\n",
       "      <td>2.5</td>\n",
       "      <td>1055.0</td>\n",
       "      <td>676.0</td>\n",
       "      <td>28</td>\n",
       "      <td>61.887366</td>\n",
       "    </tr>\n",
       "    <tr>\n",
       "      <th>2</th>\n",
       "      <td>332.5</td>\n",
       "      <td>142.5</td>\n",
       "      <td>0.0</td>\n",
       "      <td>228.0</td>\n",
       "      <td>0.0</td>\n",
       "      <td>932.0</td>\n",
       "      <td>594.0</td>\n",
       "      <td>270</td>\n",
       "      <td>40.269535</td>\n",
       "    </tr>\n",
       "    <tr>\n",
       "      <th>3</th>\n",
       "      <td>332.5</td>\n",
       "      <td>142.5</td>\n",
       "      <td>0.0</td>\n",
       "      <td>228.0</td>\n",
       "      <td>0.0</td>\n",
       "      <td>932.0</td>\n",
       "      <td>594.0</td>\n",
       "      <td>365</td>\n",
       "      <td>41.052780</td>\n",
       "    </tr>\n",
       "    <tr>\n",
       "      <th>4</th>\n",
       "      <td>198.6</td>\n",
       "      <td>132.4</td>\n",
       "      <td>0.0</td>\n",
       "      <td>192.0</td>\n",
       "      <td>0.0</td>\n",
       "      <td>978.4</td>\n",
       "      <td>825.5</td>\n",
       "      <td>360</td>\n",
       "      <td>44.296075</td>\n",
       "    </tr>\n",
       "  </tbody>\n",
       "</table>\n",
       "</div>"
      ],
      "text/plain": [
       "   Cement   Slag  Fly_Ash  Water  Super_P  Coarse_Agg  Fine_Agg  Age  \\\n",
       "0   540.0    0.0      0.0  162.0      2.5      1040.0     676.0   28   \n",
       "1   540.0    0.0      0.0  162.0      2.5      1055.0     676.0   28   \n",
       "2   332.5  142.5      0.0  228.0      0.0       932.0     594.0  270   \n",
       "3   332.5  142.5      0.0  228.0      0.0       932.0     594.0  365   \n",
       "4   198.6  132.4      0.0  192.0      0.0       978.4     825.5  360   \n",
       "\n",
       "   Compressive_Strength  \n",
       "0             79.986111  \n",
       "1             61.887366  \n",
       "2             40.269535  \n",
       "3             41.052780  \n",
       "4             44.296075  "
      ]
     },
     "metadata": {},
     "output_type": "display_data"
    }
   ],
   "source": [
    "original_data = get_data() \n",
    "display(original_data.head()) #showing the original data"
   ]
  },
  {
   "cell_type": "code",
   "execution_count": 5,
   "metadata": {},
   "outputs": [
    {
     "data": {
      "text/html": [
       "<div>\n",
       "<style scoped>\n",
       "    .dataframe tbody tr th:only-of-type {\n",
       "        vertical-align: middle;\n",
       "    }\n",
       "\n",
       "    .dataframe tbody tr th {\n",
       "        vertical-align: top;\n",
       "    }\n",
       "\n",
       "    .dataframe thead th {\n",
       "        text-align: right;\n",
       "    }\n",
       "</style>\n",
       "<table border=\"1\" class=\"dataframe\">\n",
       "  <thead>\n",
       "    <tr style=\"text-align: right;\">\n",
       "      <th></th>\n",
       "      <th>Cement</th>\n",
       "      <th>Slag</th>\n",
       "      <th>Fly_Ash</th>\n",
       "      <th>Water</th>\n",
       "      <th>Super_P</th>\n",
       "      <th>Coarse_Agg</th>\n",
       "      <th>Fine_Agg</th>\n",
       "      <th>Age</th>\n",
       "      <th>Compressive_Strength</th>\n",
       "    </tr>\n",
       "  </thead>\n",
       "  <tbody>\n",
       "    <tr>\n",
       "      <th>0</th>\n",
       "      <td>2.477918</td>\n",
       "      <td>-0.856886</td>\n",
       "      <td>-0.847132</td>\n",
       "      <td>-0.916663</td>\n",
       "      <td>-0.620225</td>\n",
       "      <td>0.863160</td>\n",
       "      <td>-1.217658</td>\n",
       "      <td>-0.279733</td>\n",
       "      <td>2.645192</td>\n",
       "    </tr>\n",
       "    <tr>\n",
       "      <th>1</th>\n",
       "      <td>2.477918</td>\n",
       "      <td>-0.856886</td>\n",
       "      <td>-0.847132</td>\n",
       "      <td>-0.916663</td>\n",
       "      <td>-0.620225</td>\n",
       "      <td>1.056170</td>\n",
       "      <td>-1.217658</td>\n",
       "      <td>-0.279733</td>\n",
       "      <td>1.561277</td>\n",
       "    </tr>\n",
       "    <tr>\n",
       "      <th>2</th>\n",
       "      <td>0.491443</td>\n",
       "      <td>0.795533</td>\n",
       "      <td>-0.847132</td>\n",
       "      <td>2.175367</td>\n",
       "      <td>-1.038944</td>\n",
       "      <td>-0.526514</td>\n",
       "      <td>-2.240913</td>\n",
       "      <td>3.553066</td>\n",
       "      <td>0.266608</td>\n",
       "    </tr>\n",
       "    <tr>\n",
       "      <th>3</th>\n",
       "      <td>0.491443</td>\n",
       "      <td>0.795533</td>\n",
       "      <td>-0.847132</td>\n",
       "      <td>2.175367</td>\n",
       "      <td>-1.038944</td>\n",
       "      <td>-0.526514</td>\n",
       "      <td>-2.240913</td>\n",
       "      <td>5.057677</td>\n",
       "      <td>0.313515</td>\n",
       "    </tr>\n",
       "    <tr>\n",
       "      <th>4</th>\n",
       "      <td>-0.790432</td>\n",
       "      <td>0.678414</td>\n",
       "      <td>-0.847132</td>\n",
       "      <td>0.488805</td>\n",
       "      <td>-1.038944</td>\n",
       "      <td>0.070531</td>\n",
       "      <td>0.647908</td>\n",
       "      <td>4.978487</td>\n",
       "      <td>0.507753</td>\n",
       "    </tr>\n",
       "    <tr>\n",
       "      <th>...</th>\n",
       "      <td>...</td>\n",
       "      <td>...</td>\n",
       "      <td>...</td>\n",
       "      <td>...</td>\n",
       "      <td>...</td>\n",
       "      <td>...</td>\n",
       "      <td>...</td>\n",
       "      <td>...</td>\n",
       "      <td>...</td>\n",
       "    </tr>\n",
       "    <tr>\n",
       "      <th>1025</th>\n",
       "      <td>-0.045623</td>\n",
       "      <td>0.488241</td>\n",
       "      <td>0.564569</td>\n",
       "      <td>-0.092122</td>\n",
       "      <td>0.451695</td>\n",
       "      <td>-1.323003</td>\n",
       "      <td>-0.065874</td>\n",
       "      <td>-0.279733</td>\n",
       "      <td>0.507051</td>\n",
       "    </tr>\n",
       "    <tr>\n",
       "      <th>1026</th>\n",
       "      <td>0.392837</td>\n",
       "      <td>-0.856886</td>\n",
       "      <td>0.960095</td>\n",
       "      <td>0.676201</td>\n",
       "      <td>0.702927</td>\n",
       "      <td>-1.994679</td>\n",
       "      <td>0.496916</td>\n",
       "      <td>-0.279733</td>\n",
       "      <td>-0.277827</td>\n",
       "    </tr>\n",
       "    <tr>\n",
       "      <th>1027</th>\n",
       "      <td>-1.270057</td>\n",
       "      <td>0.759585</td>\n",
       "      <td>0.850661</td>\n",
       "      <td>0.521599</td>\n",
       "      <td>-0.017270</td>\n",
       "      <td>-1.036061</td>\n",
       "      <td>0.080127</td>\n",
       "      <td>-0.279733</td>\n",
       "      <td>-0.725928</td>\n",
       "    </tr>\n",
       "    <tr>\n",
       "      <th>1028</th>\n",
       "      <td>-1.168580</td>\n",
       "      <td>1.308072</td>\n",
       "      <td>-0.847132</td>\n",
       "      <td>-0.279518</td>\n",
       "      <td>0.853666</td>\n",
       "      <td>0.214646</td>\n",
       "      <td>0.191188</td>\n",
       "      <td>-0.279733</td>\n",
       "      <td>-0.182649</td>\n",
       "    </tr>\n",
       "    <tr>\n",
       "      <th>1029</th>\n",
       "      <td>-0.194010</td>\n",
       "      <td>0.308504</td>\n",
       "      <td>0.376967</td>\n",
       "      <td>0.891706</td>\n",
       "      <td>0.401449</td>\n",
       "      <td>-1.395060</td>\n",
       "      <td>-0.150729</td>\n",
       "      <td>-0.279733</td>\n",
       "      <td>-0.204617</td>\n",
       "    </tr>\n",
       "  </tbody>\n",
       "</table>\n",
       "<p>1030 rows × 9 columns</p>\n",
       "</div>"
      ],
      "text/plain": [
       "        Cement      Slag   Fly_Ash     Water   Super_P  Coarse_Agg  Fine_Agg  \\\n",
       "0     2.477918 -0.856886 -0.847132 -0.916663 -0.620225    0.863160 -1.217658   \n",
       "1     2.477918 -0.856886 -0.847132 -0.916663 -0.620225    1.056170 -1.217658   \n",
       "2     0.491443  0.795533 -0.847132  2.175367 -1.038944   -0.526514 -2.240913   \n",
       "3     0.491443  0.795533 -0.847132  2.175367 -1.038944   -0.526514 -2.240913   \n",
       "4    -0.790432  0.678414 -0.847132  0.488805 -1.038944    0.070531  0.647908   \n",
       "...        ...       ...       ...       ...       ...         ...       ...   \n",
       "1025 -0.045623  0.488241  0.564569 -0.092122  0.451695   -1.323003 -0.065874   \n",
       "1026  0.392837 -0.856886  0.960095  0.676201  0.702927   -1.994679  0.496916   \n",
       "1027 -1.270057  0.759585  0.850661  0.521599 -0.017270   -1.036061  0.080127   \n",
       "1028 -1.168580  1.308072 -0.847132 -0.279518  0.853666    0.214646  0.191188   \n",
       "1029 -0.194010  0.308504  0.376967  0.891706  0.401449   -1.395060 -0.150729   \n",
       "\n",
       "           Age  Compressive_Strength  \n",
       "0    -0.279733              2.645192  \n",
       "1    -0.279733              1.561277  \n",
       "2     3.553066              0.266608  \n",
       "3     5.057677              0.313515  \n",
       "4     4.978487              0.507753  \n",
       "...        ...                   ...  \n",
       "1025 -0.279733              0.507051  \n",
       "1026 -0.279733             -0.277827  \n",
       "1027 -0.279733             -0.725928  \n",
       "1028 -0.279733             -0.182649  \n",
       "1029 -0.279733             -0.204617  \n",
       "\n",
       "[1030 rows x 9 columns]"
      ]
     },
     "metadata": {},
     "output_type": "display_data"
    }
   ],
   "source": [
    "\n",
    "def preprocess_data(data):\n",
    "    \"\"\"\n",
    "    preprocess_data(data) -> pandas dataframe\n",
    "    data: the original semi-processed data produced by the get_data() function\n",
    "\n",
    "    Description:\n",
    "    In order to make the model train a bit better, we're going to use zscore. \n",
    "    In order to calculate the z-score, take the original number, subtract the mean, and then devide the whole thing by its standard deviation\n",
    "    For each data point in the data, this function will regularize it based on its column.\n",
    "\n",
    "    \"\"\"\n",
    "    new_data = data.copy()\n",
    "    for column in new_data.columns:\n",
    "        new_data[column] = stats.zscore(new_data[column])\n",
    "    return new_data\n",
    "\n",
    "data = preprocess_data(original_data)\n",
    "display(data)"
   ]
  },
  {
   "cell_type": "code",
   "execution_count": 6,
   "metadata": {},
   "outputs": [
    {
     "name": "stdout",
     "output_type": "stream",
     "text": [
      "Shape of the training data: (772, 8)\n",
      "Shape of the testing data: (258, 8)\n",
      "Shape of labels data (772,)\n",
      "165    1.849495\n",
      "615   -0.208911\n",
      "841   -0.341045\n",
      "956   -0.736251\n",
      "248    0.507918\n",
      "Name: Compressive_Strength, dtype: float64\n"
     ]
    }
   ],
   "source": [
    "\n",
    "def separate_data(data, target):\n",
    "    \"\"\"\n",
    "    separate_data(data, target) -> X_train, X_test, y_train, y_test\n",
    "    data: the regularized data produced by the preprocess_data() function\n",
    "    target: the column that we'll try to predict\n",
    "\n",
    "    Description: We're going to separate the data into stuff that we'll try to predict and stuff that we will be used to\n",
    "     predict. We're also going to use the train_test_split method to separate the data into training and testing pairs. \n",
    "    Even though it's not really that necessary to split the data up when using a linear model, it still can show you\n",
    "    how accurate you are actually are. \n",
    "    \"\"\"\n",
    "    X = data.drop(target, axis = 1)\n",
    "    Y = data[target]\n",
    "    return train_test_split(X, Y)\n",
    "\n",
    "X_train, X_test, y_train, y_test = separate_data(data, \"Compressive_Strength\")\n",
    "print(f\"Shape of the training data: {X_train.shape}\")\n",
    "print(f\"Shape of the testing data: {X_test.shape}\")\n",
    "print(f\"Shape of labels data {y_train.shape}\")\n",
    "\n",
    "print(y_train.head())"
   ]
  },
  {
   "cell_type": "code",
   "execution_count": 7,
   "metadata": {},
   "outputs": [
    {
     "data": {
      "image/png": "[encoded data removed]",
      "text/plain": [
       "<Figure size 640x480 with 1 Axes>"
      ]
     },
     "metadata": {},
     "output_type": "display_data"
    }
   ],
   "source": [
    "def represent_data(data, x, y):\n",
    "    \"\"\"\n",
    "    represent_data(data, x, y) -> matplotlib dot plot that shows the datapoints based on x, y\n",
    "    data: the regularized dataframe produced by the preprocess_data() function\n",
    "    x: the feature that one wants to put on the x_axis\n",
    "    y: the feature that will be put on the y axis\n",
    "\n",
    "    Description\n",
    "    This function will take in take in two features of the dataframe and represent them in a dot plot\"\"\"\n",
    "    plt.scatter(data[x], data[y])\n",
    "    plt.title(f\"Comparing {x} to {y}\")\n",
    "    plt.ylabel(y)\n",
    "    plt.xlabel(x)\n",
    "    plt.show()\n",
    "\n",
    "\n",
    "represent_data(data, \"Coarse_Agg\", \"Compressive_Strength\")"
   ]
  },
  {
   "cell_type": "code",
   "execution_count": 8,
   "metadata": {},
   "outputs": [
    {
     "data": {
      "text/plain": [
       "0      -0.847132\n",
       "1      -0.847132\n",
       "2      -0.847132\n",
       "3      -0.847132\n",
       "4      -0.847132\n",
       "          ...   \n",
       "1025    0.564569\n",
       "1026    0.960095\n",
       "1027    0.850661\n",
       "1028   -0.847132\n",
       "1029    0.376967\n",
       "Name: Fly_Ash, Length: 1030, dtype: float64"
      ]
     },
     "execution_count": 8,
     "metadata": {},
     "output_type": "execute_result"
    }
   ],
   "source": [
    "data[\"Fly_Ash\"]"
   ]
  },
  {
   "attachments": {},
   "cell_type": "markdown",
   "metadata": {},
   "source": [
    "## Part 2"
   ]
  },
  {
   "attachments": {},
   "cell_type": "markdown",
   "metadata": {},
   "source": [
    "**Computing the Cost**\n",
    "\n",
    "In order to improve the linear model, one has to use a cost function. It tells you how wrong one is."
   ]
  },
  {
   "cell_type": "code",
   "execution_count": 9,
   "metadata": {},
   "outputs": [],
   "source": [
    "def generate_random_weights_and_biases(number_of_weights):\n",
    "    \"\"\"\n",
    "    generate_random_weights_and_biases(number_of_weights) -> w (numpy array), b (scalar)\n",
    "    number_of_weights: an int that represents the number of weights that one needs to represent the model\n",
    "\n",
    "    Description:\n",
    "    generate original weights and biasses using the nm.random.uniform() and .random() functions\n",
    "    \"\"\"\n",
    "    w = np.random.uniform(size = number_of_weights)\n",
    "    b = np.random.random()\n",
    "    return w, b"
   ]
  },
  {
   "cell_type": "code",
   "execution_count": 10,
   "metadata": {},
   "outputs": [
    {
     "name": "stdout",
     "output_type": "stream",
     "text": [
      "Weights: [0.18816748 0.35501855 0.55791088 0.79385742 0.50913844 0.17847832\n",
      " 0.05925304 0.92341145]\n",
      "Bias: 0.5189487504755342\n"
     ]
    }
   ],
   "source": [
    "w, b = generate_random_weights_and_biases(8)\n",
    "print(f\"Weights: {w}\")\n",
    "print(f\"Bias: {b}\")"
   ]
  },
  {
   "cell_type": "code",
   "execution_count": 11,
   "metadata": {},
   "outputs": [],
   "source": [
    "def compute_cost(x, y, w, b):\n",
    "    \"\"\"\n",
    "    compute_cost(x, y, w, b) -> total_cost\n",
    "    x:the features and data with which you are training the model\n",
    "    y: the \"answers\" that one is using, the labels for the data\n",
    "    w: the weights of the data\n",
    "    b: the bias\n",
    "\n",
    "    Description:\n",
    "    given the weights and biases, along with the testing data,\n",
    "    use the mean squared error function to calculate the cost\n",
    "    \"\"\"\n",
    "\n",
    "    m = x.shape[0] \n",
    "    total_cost = 0\n",
    "    i = 0\n",
    "    while i < m:\n",
    "        total_cost += (np.dot(w, x.iloc[i]) + b - y.iloc[i])**2\n",
    "        i += 1\n",
    "\n",
    "    total_cost = total_cost / (2*m)\n",
    "    \n",
    "    return total_cost"
   ]
  },
  {
   "cell_type": "code",
   "execution_count": 12,
   "metadata": {},
   "outputs": [
    {
     "data": {
      "text/html": [
       "<div>\n",
       "<style scoped>\n",
       "    .dataframe tbody tr th:only-of-type {\n",
       "        vertical-align: middle;\n",
       "    }\n",
       "\n",
       "    .dataframe tbody tr th {\n",
       "        vertical-align: top;\n",
       "    }\n",
       "\n",
       "    .dataframe thead th {\n",
       "        text-align: right;\n",
       "    }\n",
       "</style>\n",
       "<table border=\"1\" class=\"dataframe\">\n",
       "  <thead>\n",
       "    <tr style=\"text-align: right;\">\n",
       "      <th></th>\n",
       "      <th>Cement</th>\n",
       "      <th>Slag</th>\n",
       "      <th>Fly_Ash</th>\n",
       "      <th>Water</th>\n",
       "      <th>Super_P</th>\n",
       "      <th>Coarse_Agg</th>\n",
       "      <th>Fine_Agg</th>\n",
       "      <th>Age</th>\n",
       "    </tr>\n",
       "  </thead>\n",
       "  <tbody>\n",
       "    <tr>\n",
       "      <th>165</th>\n",
       "      <td>1.376980</td>\n",
       "      <td>0.375760</td>\n",
       "      <td>-0.847132</td>\n",
       "      <td>-1.413262</td>\n",
       "      <td>2.076325</td>\n",
       "      <td>-0.475045</td>\n",
       "      <td>0.375873</td>\n",
       "      <td>0.718062</td>\n",
       "    </tr>\n",
       "    <tr>\n",
       "      <th>615</th>\n",
       "      <td>-0.039879</td>\n",
       "      <td>-0.856886</td>\n",
       "      <td>-0.847132</td>\n",
       "      <td>0.441956</td>\n",
       "      <td>-1.038944</td>\n",
       "      <td>-0.063289</td>\n",
       "      <td>1.028509</td>\n",
       "      <td>2.127645</td>\n",
       "    </tr>\n",
       "    <tr>\n",
       "      <th>841</th>\n",
       "      <td>0.228175</td>\n",
       "      <td>-0.856886</td>\n",
       "      <td>0.716213</td>\n",
       "      <td>0.676201</td>\n",
       "      <td>0.635932</td>\n",
       "      <td>-0.179095</td>\n",
       "      <td>-0.855776</td>\n",
       "      <td>-0.279733</td>\n",
       "    </tr>\n",
       "    <tr>\n",
       "      <th>956</th>\n",
       "      <td>-1.265271</td>\n",
       "      <td>0.506794</td>\n",
       "      <td>0.586456</td>\n",
       "      <td>0.062480</td>\n",
       "      <td>0.150218</td>\n",
       "      <td>-0.251153</td>\n",
       "      <td>0.083871</td>\n",
       "      <td>-0.279733</td>\n",
       "    </tr>\n",
       "    <tr>\n",
       "      <th>248</th>\n",
       "      <td>-0.412762</td>\n",
       "      <td>-0.856886</td>\n",
       "      <td>0.624132</td>\n",
       "      <td>0.238632</td>\n",
       "      <td>0.133469</td>\n",
       "      <td>-0.296060</td>\n",
       "      <td>0.916326</td>\n",
       "      <td>0.860604</td>\n",
       "    </tr>\n",
       "  </tbody>\n",
       "</table>\n",
       "</div>"
      ],
      "text/plain": [
       "       Cement      Slag   Fly_Ash     Water   Super_P  Coarse_Agg  Fine_Agg  \\\n",
       "165  1.376980  0.375760 -0.847132 -1.413262  2.076325   -0.475045  0.375873   \n",
       "615 -0.039879 -0.856886 -0.847132  0.441956 -1.038944   -0.063289  1.028509   \n",
       "841  0.228175 -0.856886  0.716213  0.676201  0.635932   -0.179095 -0.855776   \n",
       "956 -1.265271  0.506794  0.586456  0.062480  0.150218   -0.251153  0.083871   \n",
       "248 -0.412762 -0.856886  0.624132  0.238632  0.133469   -0.296060  0.916326   \n",
       "\n",
       "          Age  \n",
       "165  0.718062  \n",
       "615  2.127645  \n",
       "841 -0.279733  \n",
       "956 -0.279733  \n",
       "248  0.860604  "
      ]
     },
     "metadata": {},
     "output_type": "display_data"
    }
   ],
   "source": [
    "display(X_train.head())"
   ]
  },
  {
   "cell_type": "code",
   "execution_count": 13,
   "metadata": {},
   "outputs": [
    {
     "name": "stdout",
     "output_type": "stream",
     "text": [
      "1.0165885626592406\n"
     ]
    }
   ],
   "source": [
    "original_cost = compute_cost(X_train, y_train, w, b)\n",
    "print(original_cost)"
   ]
  },
  {
   "cell_type": "code",
   "execution_count": 14,
   "metadata": {},
   "outputs": [],
   "source": [
    "def compute_gradient(x, y, w, b):\n",
    "    \"\"\"\n",
    "    compute_gradient(x, y, w, b) -> gradient for weights, gradient for the bias\n",
    "    x:the features and data with which you are training the model\n",
    "    y: the \"answers\" that one is using, the labels for the data\n",
    "    w: the weights of the data\n",
    "    b: the bias\n",
    "\n",
    "    Description:\n",
    "    given the weights and bias, along with the data one is using to train the model,\n",
    "    return the gradients of the weights and biases (the numbers that what one needs to update the model)\n",
    "    \"\"\"\n",
    "\n",
    "    m, n = x.shape\n",
    "    dj_dw = np.zeros(w.shape)\n",
    "    dj_db = 0.\n",
    "\n",
    "    for i in range(m):\n",
    "        f_wb = np.dot(x.iloc[i], w) + b\n",
    "\n",
    "        \n",
    "        dj_db_i = f_wb - y.iloc[i]\n",
    "        dj_db += dj_db_i\n",
    "        \n",
    "        for j in range(n):\n",
    "            dj_dw[j] += dj_db_i*x.iloc[i][x.columns[j]]\n",
    "            \n",
    "    dj_dw /= m\n",
    "    dj_db /= m\n",
    "\n",
    "        \n",
    "    return dj_dw, dj_db"
   ]
  },
  {
   "cell_type": "code",
   "execution_count": 15,
   "metadata": {},
   "outputs": [
    {
     "name": "stdout",
     "output_type": "stream",
     "text": [
      "[-0.60721245  0.01363986  0.30342547  0.79496068 -0.35633508 -0.03644754\n",
      " -0.29904912  0.67821745] 0.5252676837072165\n"
     ]
    }
   ],
   "source": [
    "dj_dw, dj_db = compute_gradient(X_train, y_train, w, b)\n",
    "print(dj_dw, dj_db)\n"
   ]
  },
  {
   "cell_type": "code",
   "execution_count": 16,
   "metadata": {},
   "outputs": [],
   "source": [
    "def gradient_descent(X_train, y_train, X_test, y_test, w_in, b_in, cost_function, gradient_function, alpha, num_iters):\n",
    "    \"\"\"\n",
    "    gradient_descent(X_train, y_train, X_test, y_test, w_in, b_in, cost_function, gradient_function, alpha, num_iters) -> ideal weights, ideal bias\n",
    "    X_train: training data\n",
    "    y_train: training labels\n",
    "    X_test: the testing data\n",
    "    y_test: the testing labels\n",
    "    w_in: the original weights\n",
    "    b_in: the origunal bias\n",
    "    cost_function: the function that one is learning \n",
    "    gradient_function: the function that one is using the calculate the gradient\n",
    "    alpha: the learning rate\n",
    "    num_iters: number of iterations that gradent will run\n",
    "\n",
    "    description\n",
    "    This functions will run gradient descent over a number of iterations. It will slowly adjust the weights and biases, and \n",
    "    every 100 iterations, it will return a cost\n",
    "    \"\"\"\n",
    "    w = w_in  #will be bad if one is  modifying global w within function\n",
    "    b = b_in\n",
    "    \n",
    "    for i in range(num_iters):\n",
    "        # Calculate the gradient and update the parameters\n",
    "        dj_dw, dj_db = gradient_function(X_train, y_train, w, b )  \n",
    "\n",
    "        # Update Parameters using w, b, alpha and gradient\n",
    "        w = w - alpha * dj_dw               \n",
    "        b = b - alpha * dj_db               \n",
    "\n",
    "        if i % 100 == 0:\n",
    "            cost =  cost_function(X_test, y_test, w, b)\n",
    "            print(f\"Cost at iteration {i}: {cost}\")\n",
    "\n",
    "        \n",
    "    return w, b"
   ]
  },
  {
   "cell_type": "code",
   "execution_count": 17,
   "metadata": {},
   "outputs": [
    {
     "name": "stdout",
     "output_type": "stream",
     "text": [
      "Cost at iteration 0: 1.0257130385555455\n",
      "Cost at iteration 100: 0.32997594529404556\n",
      "Cost at iteration 200: 0.24827756833547934\n",
      "Cost at iteration 300: 0.23054473906764147\n",
      "Cost at iteration 400: 0.22290050988796684\n",
      "Cost at iteration 500: 0.21806982949122808\n",
      "Cost at iteration 600: 0.21468005354562525\n",
      "Cost at iteration 700: 0.21224938708224975\n",
      "Cost at iteration 800: 0.21049659533436302\n",
      "Cost at iteration 900: 0.20922756275714843\n",
      "Cost at iteration 1000: 0.20830439200985074\n"
     ]
    }
   ],
   "source": [
    "learning_rate = 0.01\n",
    "iterations = 1001\n",
    "\n",
    "w, b =  gradient_descent(X_train ,y_train, X_test, y_test, w, b, compute_cost, compute_gradient, learning_rate, iterations)"
   ]
  },
  {
   "attachments": {},
   "cell_type": "markdown",
   "metadata": {},
   "source": [
    "## Part 3"
   ]
  },
  {
   "cell_type": "code",
   "execution_count": 18,
   "metadata": {},
   "outputs": [],
   "source": [
    "def predict_value(cement, slag, fly_ash, water, super_p, coarse_agg, fine_agg, age, w, b):\n",
    "    \"\"\"\n",
    "    predict_value(cement, slag, fly_ash, water, super_p, coarse_agg, fine_agg, age, w, b) -> prediction on concrete strength\n",
    "    cement: the cement value one wants to use to predict\n",
    "    slag: the fly_ash value one wants to use to predict\n",
    "    water: the water value one wants to use to predict\n",
    "    super_p: the super_p value one wants to use to predict\n",
    "    coarse_agg: the coarse_agg value one wants to use to predict\n",
    "    fine_agg: the fine_agg value one wants to use to predict\n",
    "    age: the age value one wants to use to predict\n",
    "    w: weights\n",
    "    b: biases\n",
    "    \"\"\"\n",
    "\n",
    "    p = np.array([cement, slag, fly_ash, water, super_p, coarse_agg, fine_agg, age])\n",
    "    \n",
    "    for element, number in zip(p, range(8)):\n",
    "        p[number] = (element - np.mean(original_data.iloc[:, number]))/np.std(original_data.iloc[:, number])\n",
    "\n",
    "    prediction = np.dot(w, p) + b\n",
    "\n",
    "    prediction *= np.std(original_data.iloc[:, 8])\n",
    "    prediction += np.mean(original_data.iloc[:, 8])\n",
    "\n",
    "    return prediction\n",
    "\n",
    "\n"
   ]
  },
  {
   "attachments": {},
   "cell_type": "markdown",
   "metadata": {},
   "source": [
    "## Example Predictions\n",
    "\n",
    "We've done it. We've made a half-dfescent linear model which can predict concrete. So have fun playing around!\n",
    "\n",
    "Feel free to generate your own predicted strengths!!!"
   ]
  },
  {
   "cell_type": "code",
   "execution_count": 19,
   "metadata": {},
   "outputs": [
    {
     "data": {
      "text/plain": [
       "50.67417629220992"
      ]
     },
     "execution_count": 19,
     "metadata": {},
     "output_type": "execute_result"
    }
   ],
   "source": [
    "predict_value(540.0,0.0,0.0,162.0,2.5,1040.0,676.0,28, w, b)"
   ]
  },
  {
   "cell_type": "code",
   "execution_count": 20,
   "metadata": {},
   "outputs": [
    {
     "data": {
      "text/plain": [
       "51.1837895783302"
      ]
     },
     "execution_count": 20,
     "metadata": {},
     "output_type": "execute_result"
    }
   ],
   "source": [
    "\n",
    "predict_value(540.0,0.0,0.0,162.0,2.5,1055.0,676.0,28, w, b)"
   ]
  },
  {
   "cell_type": "code",
   "execution_count": 21,
   "metadata": {},
   "outputs": [
    {
     "data": {
      "text/plain": [
       "56.21027393632106"
      ]
     },
     "execution_count": 21,
     "metadata": {},
     "output_type": "execute_result"
    }
   ],
   "source": [
    "predict_value(332.5,142.5,0.0,228.0,0.0,932.0,594.0,270, w, b)"
   ]
  },
  {
   "cell_type": "code",
   "execution_count": 22,
   "metadata": {},
   "outputs": [
    {
     "data": {
      "text/plain": [
       "59.18815977396149"
      ]
     },
     "execution_count": 22,
     "metadata": {},
     "output_type": "execute_result"
    }
   ],
   "source": [
    "predict_value(198.6,132.4,0.0,192.0,0.0,978.4,825.5,360, w, b)"
   ]
  },
  {
   "cell_type": "code",
   "execution_count": null,
   "metadata": {},
   "outputs": [],
   "source": []
  }
 ],
 "metadata": {
  "kernelspec": {
   "display_name": "Python 3",
   "language": "python",
   "name": "python3"
  },
  "language_info": {
   "codemirror_mode": {
    "name": "ipython",
    "version": 3
   },
   "file_extension": ".py",
   "mimetype": "text/x-python",
   "name": "python",
   "nbconvert_exporter": "python",
   "pygments_lexer": "ipython3",
   "version": "3.9.16"
  },
  "orig_nbformat": 4
 },
 "nbformat": 4,
 "nbformat_minor": 2
}
